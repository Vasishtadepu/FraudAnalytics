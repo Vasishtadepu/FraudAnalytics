{
 "cells": [
  {
   "cell_type": "code",
   "execution_count": 39,
   "metadata": {},
   "outputs": [],
   "source": [
    "import numpy as np\n",
    "import pandas as pd\n",
    "from sklearn.model_selection import train_test_split\n",
    "import matplotlib.pyplot as plt"
   ]
  },
  {
   "cell_type": "code",
   "execution_count": 40,
   "metadata": {},
   "outputs": [],
   "source": [
    "#handling our data\n",
    "fraud_data = pd.read_csv(\"costsensitiveregression.csv\")\n",
    "col = fraud_data.columns.tolist()\n",
    "col = col[-2:-1] + col[:-2] + col[-1:]\n",
    "fraud_data = fraud_data[col]\n",
    "\n",
    "\n",
    "X_train, X_test, y_train, y_test = train_test_split(\n",
    "    fraud_data.iloc[:, 1:], fraud_data.iloc[:, 0], test_size=0.2, random_state=0\n",
    ")\n",
    "\n",
    "fnc_train= X_train[\"FNC\"]\n",
    "fnc_test = X_test[\"FNC\"]\n",
    "\n",
    "X_train = X_train.drop(\"FNC\",axis = 1)\n",
    "X_test = X_test.drop(\"FNC\",axis  = 1)\n",
    "\n",
    "X_train = X_train.to_numpy()\n",
    "X_test = X_test.to_numpy()\n",
    "y_train = y_train.to_numpy()\n",
    "y_test = y_test.to_numpy()"
   ]
  },
  {
   "cell_type": "code",
   "execution_count": 41,
   "metadata": {},
   "outputs": [],
   "source": [
    "#defining sigmoid function\n",
    "def sigmoid(x):\n",
    "    return 1 / (1 + np.exp(-x))\n",
    "\n",
    "#defining our cost sensitive loss function\n",
    "def loss(y,y_pred,fnc):\n",
    "    tpc  = 4\n",
    "    fpc = 4\n",
    "    tnc = 0\n",
    "    loss = y * (y_pred* tpc + (1 - y_pred) * fnc) + (1 - y_pred) * (\n",
    "            y_pred* fpc + (1 - y_pred) * tnc\n",
    "        )\n",
    "    return loss.mean()"
   ]
  },
  {
   "cell_type": "code",
   "execution_count": 42,
   "metadata": {},
   "outputs": [],
   "source": [
    "#defining our fitness function which assigns a fitness score to each member\n",
    "#in our population\n",
    "\n",
    "def fitness(population,X,y,fnc):\n",
    "    fitness = []\n",
    "    for member in population:\n",
    "        y_pred = sigmoid(np.dot(X, member))\n",
    "        loss_t = loss(y,y_pred,fnc)\n",
    "        fitness.append(1 / (1 + loss_t))\n",
    "    return fitness"
   ]
  },
  {
   "cell_type": "code",
   "execution_count": 43,
   "metadata": {},
   "outputs": [],
   "source": [
    "#Now for our genetic algorithm we define pop_sizes, mutation_rates, iters etc\n",
    "pop_size = 50\n",
    "max_iters = 1000\n",
    "mutation_prob = 0.01\n",
    "\n",
    "#Now we define our crossover function\n",
    "def crossover(parent1,parent2):\n",
    "    crossover_point = np.random.randint(len(parent1))\n",
    "    child = np.concatenate([parent1[:crossover_point], parent2[crossover_point:]])\n",
    "    return child\n",
    "\n",
    "#Now we define our mutation for each member in our population\n",
    "def mutate(member,mutation_prob):\n",
    "    mask = np.random.binomial(n=1, p=mutation_prob, size=len(member)).astype(bool)\n",
    "    mutation = np.random.rand(sum(mask)) - 0.5\n",
    "    member[mask] += mutation\n",
    "    return member"
   ]
  },
  {
   "cell_type": "code",
   "execution_count": 44,
   "metadata": {},
   "outputs": [],
   "source": [
    "#Now we define our fit function using the above defined functions\n",
    "def fit(pop_size,max_iters,mutation_prob,X,y,fnc):\n",
    "    loss_epoch = []\n",
    "    #Now we generate our population randomly for checking\n",
    "    population = np.random.rand(pop_size, X.shape[1]) - 0.5\n",
    "\n",
    "    #Now we perform the optimization\n",
    "    for i in range(max_iters):\n",
    "        fitness_t = fitness(population,X,y,fnc)\n",
    "        p1 = fitness_t/np.sum(fitness_t)\n",
    "        parent1_idx = np.random.choice(range(pop_size),p = p1)\n",
    "        parent2_idx = np.random.choice(range(pop_size),p = p1)\n",
    "\n",
    "        parent1 = population[parent1_idx]\n",
    "        parent2 = population[parent2_idx]\n",
    "\n",
    "        child = crossover(parent1, parent2)\n",
    "        child = mutate(child,mutation_prob)\n",
    "\n",
    "        child_fitness = fitness([child], X, y,fnc)[0]\n",
    "        worst_idx = np.argmin(fitness_t)\n",
    "        best_idx = np.argmax(fitness_t)\n",
    "        best_mem = population[best_idx]\n",
    "        y_pred = sigmoid(np.dot(X_train,best_mem))\n",
    "        loss_t = loss(y_train,y_pred,fnc_train)\n",
    "        loss_epoch.append(loss_t)\n",
    "        if child_fitness > fitness_t[worst_idx]:\n",
    "            population[worst_idx] = child\n",
    "    return population,loss_epoch\n",
    "        "
   ]
  },
  {
   "cell_type": "code",
   "execution_count": 45,
   "metadata": {},
   "outputs": [
    {
     "name": "stdout",
     "output_type": "stream",
     "text": [
      "1.202384178367345\n"
     ]
    },
    {
     "data": {
      "image/png": "[encoded data removed]",
      "text/plain": [
       "<Figure size 640x480 with 1 Axes>"
      ]
     },
     "metadata": {},
     "output_type": "display_data"
    }
   ],
   "source": [
    "population,loss_epochs = fit(pop_size,max_iters,mutation_prob,X_train,y_train,fnc_train)\n",
    "\n",
    "#now we have a population we need to find the accuracy\n",
    "#before that let us find the best among the population\n",
    "fitness_t = fitness(population,X_train,y_train,fnc_train)\n",
    "best_idx = np.argmax(fitness_t)\n",
    "best_member = population[best_idx]\n",
    "\n",
    "#printing the loss\n",
    "y_pred = sigmoid(np.dot(X_test,best_member))\n",
    "loss_t = loss(y_test,y_pred,fnc_test)\n",
    "print(loss_t)\n",
    "\n",
    "x_axis = [i for i in range(1,max_iters+1)]\n",
    "plt.plot(x_axis,loss_epochs)\n",
    "plt.title(\"Genetic Algorithm\")\n",
    "plt.show()\n"
   ]
  }
 ],
 "metadata": {
  "kernelspec": {
   "display_name": "Python 3",
   "language": "python",
   "name": "python3"
  },
  "language_info": {
   "codemirror_mode": {
    "name": "ipython",
    "version": 3
   },
   "file_extension": ".py",
   "mimetype": "text/x-python",
   "name": "python",
   "nbconvert_exporter": "python",
   "pygments_lexer": "ipython3",
   "version": "3.10.6"
  },
  "orig_nbformat": 4,
  "vscode": {
   "interpreter": {
    "hash": "916dbcbb3f70747c44a77c7bcd40155683ae19c65e1c03b4aa3499c5328201f1"
   }
  }
 },
 "nbformat": 4,
 "nbformat_minor": 2
}
